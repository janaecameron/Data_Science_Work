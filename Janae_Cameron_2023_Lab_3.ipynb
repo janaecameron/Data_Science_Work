{
  "nbformat": 4,
  "nbformat_minor": 0,
  "metadata": {
    "colab": {
      "provenance": [],
      "collapsed_sections": [
        "6o5zYVOU8ahE",
        "bJfwk8tnVV2E"
      ],
      "include_colab_link": true
    },
    "kernelspec": {
      "name": "python3",
      "display_name": "Python 3"
    },
    "language_info": {
      "name": "python"
    }
  },
  "cells": [
    {
      "cell_type": "markdown",
      "metadata": {
        "id": "view-in-github",
        "colab_type": "text"
      },
      "source": [
        "<a href=\"https://colab.research.google.com/github/janaecameron/Data_Science_Work/blob/main/Janae_Cameron_2023_Lab_3.ipynb\" target=\"_parent\"><img src=\"https://colab.research.google.com/assets/colab-badge.svg\" alt=\"Open In Colab\"/></a>"
      ]
    },
    {
      "cell_type": "markdown",
      "source": [
        "# Stats Notebook Lab #3"
      ],
      "metadata": {
        "id": "GEwHyK5ve9lG"
      }
    },
    {
      "cell_type": "markdown",
      "source": [
        "### Loops"
      ],
      "metadata": {
        "id": "w8jTQA6itPS_"
      }
    },
    {
      "cell_type": "code",
      "source": [
        "for i in range(100):\n",
        "    print(i)"
      ],
      "metadata": {
        "id": "L7a5MPStqZW9",
        "colab": {
          "base_uri": "https://localhost:8080/"
        },
        "outputId": "fa27988a-b4d7-4d31-de41-07f85f2bccd7"
      },
      "execution_count": 2,
      "outputs": [
        {
          "output_type": "stream",
          "name": "stdout",
          "text": [
            "0\n",
            "1\n",
            "2\n",
            "3\n",
            "4\n",
            "5\n",
            "6\n",
            "7\n",
            "8\n",
            "9\n",
            "10\n",
            "11\n",
            "12\n",
            "13\n",
            "14\n",
            "15\n",
            "16\n",
            "17\n",
            "18\n",
            "19\n",
            "20\n",
            "21\n",
            "22\n",
            "23\n",
            "24\n",
            "25\n",
            "26\n",
            "27\n",
            "28\n",
            "29\n",
            "30\n",
            "31\n",
            "32\n",
            "33\n",
            "34\n",
            "35\n",
            "36\n",
            "37\n",
            "38\n",
            "39\n",
            "40\n",
            "41\n",
            "42\n",
            "43\n",
            "44\n",
            "45\n",
            "46\n",
            "47\n",
            "48\n",
            "49\n",
            "50\n",
            "51\n",
            "52\n",
            "53\n",
            "54\n",
            "55\n",
            "56\n",
            "57\n",
            "58\n",
            "59\n",
            "60\n",
            "61\n",
            "62\n",
            "63\n",
            "64\n",
            "65\n",
            "66\n",
            "67\n",
            "68\n",
            "69\n",
            "70\n",
            "71\n",
            "72\n",
            "73\n",
            "74\n",
            "75\n",
            "76\n",
            "77\n",
            "78\n",
            "79\n",
            "80\n",
            "81\n",
            "82\n",
            "83\n",
            "84\n",
            "85\n",
            "86\n",
            "87\n",
            "88\n",
            "89\n",
            "90\n",
            "91\n",
            "92\n",
            "93\n",
            "94\n",
            "95\n",
            "96\n",
            "97\n",
            "98\n",
            "99\n"
          ]
        }
      ]
    },
    {
      "cell_type": "markdown",
      "source": [
        "**commands Python to list all numbers between 0 and 100**"
      ],
      "metadata": {
        "id": "kDI2u5CCoXx5"
      }
    },
    {
      "cell_type": "code",
      "source": [
        "for i in range(5,8):\n",
        "    print(i)"
      ],
      "metadata": {
        "colab": {
          "base_uri": "https://localhost:8080/"
        },
        "id": "GiqhhjfLqZZm",
        "outputId": "113b81ae-9ce3-46e3-cb92-a27662268efd"
      },
      "execution_count": 3,
      "outputs": [
        {
          "output_type": "stream",
          "name": "stdout",
          "text": [
            "5\n",
            "6\n",
            "7\n"
          ]
        }
      ]
    },
    {
      "cell_type": "markdown",
      "source": [
        "**commands Python to list numbers between 5 and 8**"
      ],
      "metadata": {
        "id": "kQ3krCJ-owgb"
      }
    },
    {
      "cell_type": "code",
      "source": [
        "for i in range(3):\n",
        "    print( \"Test Number: \" , i )"
      ],
      "metadata": {
        "colab": {
          "base_uri": "https://localhost:8080/"
        },
        "id": "ezhAeX6pqZb0",
        "outputId": "445c3b38-9932-400c-e53b-4c0b577e4d8c"
      },
      "execution_count": 4,
      "outputs": [
        {
          "output_type": "stream",
          "name": "stdout",
          "text": [
            "Test Number:  0\n",
            "Test Number:  1\n",
            "Test Number:  2\n"
          ]
        }
      ]
    },
    {
      "cell_type": "markdown",
      "source": [
        "**tells Python to place the phrase \"Test Number:\" infront of each of the numbers that are less than 3 (0, 1, and 2)**"
      ],
      "metadata": {
        "id": "4fAWp7jel82D"
      }
    },
    {
      "cell_type": "markdown",
      "source": [
        "### Functions"
      ],
      "metadata": {
        "id": "A6PCCPY2vkHs"
      }
    },
    {
      "cell_type": "code",
      "source": [
        "def square(x):\n",
        "    return x**2"
      ],
      "metadata": {
        "id": "P4rxbIKhthov"
      },
      "execution_count": 5,
      "outputs": []
    },
    {
      "cell_type": "markdown",
      "source": [
        "**this code is letting us know that whenever we insert a command such as \"square(6)\" that we will be raising 6 to the power of 2, hence the use of the word \"square\"**"
      ],
      "metadata": {
        "id": "QVMSWPtYYJks"
      }
    },
    {
      "cell_type": "code",
      "source": [
        "square(5)"
      ],
      "metadata": {
        "id": "tapdcxMhthq5",
        "colab": {
          "base_uri": "https://localhost:8080/"
        },
        "outputId": "99385bf1-e1f0-4308-8e30-5e8f8e52cbe5"
      },
      "execution_count": 6,
      "outputs": [
        {
          "output_type": "execute_result",
          "data": {
            "text/plain": [
              "25"
            ]
          },
          "metadata": {},
          "execution_count": 6
        }
      ]
    },
    {
      "cell_type": "markdown",
      "source": [
        "**when putting the word \"square\" followed by a set of parentheses surrounding a number, that is a command for Python to set the number inside the parenthesis to the power of 2, as defined by the code above**"
      ],
      "metadata": {
        "id": "LUd2gF2KZauP"
      }
    },
    {
      "cell_type": "code",
      "source": [
        "square(square(2))"
      ],
      "metadata": {
        "colab": {
          "base_uri": "https://localhost:8080/"
        },
        "id": "ggut_uVy_rSf",
        "outputId": "96b0818a-fe64-46d3-ddb5-12b4cbcb31d0"
      },
      "execution_count": 7,
      "outputs": [
        {
          "output_type": "execute_result",
          "data": {
            "text/plain": [
              "16"
            ]
          },
          "metadata": {},
          "execution_count": 7
        }
      ]
    },
    {
      "cell_type": "markdown",
      "source": [
        "**this specific code tells Python to complete the operation in the parentheses, which is to set 2 to the second power/be squared; once getting the answer to that first operation, which is 4, then that answer needs to be set to the second power/ be squared and the result will be 16**"
      ],
      "metadata": {
        "id": "dWc87gu4Zfn6"
      }
    },
    {
      "cell_type": "code",
      "source": [
        "square(square(square(2)))\n"
      ],
      "metadata": {
        "colab": {
          "base_uri": "https://localhost:8080/"
        },
        "id": "95jAfJVR_94h",
        "outputId": "b115c39b-1c5b-4ec7-9897-b3eb30a2cde4"
      },
      "execution_count": 8,
      "outputs": [
        {
          "output_type": "execute_result",
          "data": {
            "text/plain": [
              "256"
            ]
          },
          "metadata": {},
          "execution_count": 8
        }
      ]
    },
    {
      "cell_type": "markdown",
      "source": [
        "**just as we did before, we are going to cpmplete the operation within each set of parentheses, starting with the \"(square(2))\"; knowing that the answer to this operation is 4, we will \"square\" this answer and get 16; then, once we finally square 16, we will get our final answer of 256**"
      ],
      "metadata": {
        "id": "ujT2dItfa2F1"
      }
    },
    {
      "cell_type": "code",
      "source": [
        "square(123456)"
      ],
      "metadata": {
        "colab": {
          "base_uri": "https://localhost:8080/"
        },
        "id": "8Ni3UM4r_sav",
        "outputId": "ed7577c3-7699-44f8-b837-b328236dd10e"
      },
      "execution_count": 9,
      "outputs": [
        {
          "output_type": "execute_result",
          "data": {
            "text/plain": [
              "15241383936"
            ]
          },
          "metadata": {},
          "execution_count": 9
        }
      ]
    },
    {
      "cell_type": "code",
      "source": [
        "square(square(5))"
      ],
      "metadata": {
        "colab": {
          "base_uri": "https://localhost:8080/"
        },
        "id": "zCJeQUED_vO4",
        "outputId": "f9564320-4916-46a8-9c82-b963604a9897"
      },
      "execution_count": 10,
      "outputs": [
        {
          "output_type": "execute_result",
          "data": {
            "text/plain": [
              "625"
            ]
          },
          "metadata": {},
          "execution_count": 10
        }
      ]
    },
    {
      "cell_type": "code",
      "source": [
        "def add_two(x):\n",
        "    return x+2"
      ],
      "metadata": {
        "id": "Ifx93-xithtM"
      },
      "execution_count": 11,
      "outputs": []
    },
    {
      "cell_type": "markdown",
      "source": [
        "**lets Python know that in every command that we give after this which uses this rule, no matter what x is, 2 needs to be added onto that number**"
      ],
      "metadata": {
        "id": "vxjWm1lEczHo"
      }
    },
    {
      "cell_type": "code",
      "source": [
        "add_two(5)"
      ],
      "metadata": {
        "colab": {
          "base_uri": "https://localhost:8080/"
        },
        "id": "YOzLVIluthvX",
        "outputId": "70ca0f9a-36f7-4cc0-e1d7-8d752873f941"
      },
      "execution_count": 12,
      "outputs": [
        {
          "output_type": "execute_result",
          "data": {
            "text/plain": [
              "7"
            ]
          },
          "metadata": {},
          "execution_count": 12
        }
      ]
    },
    {
      "cell_type": "markdown",
      "source": [
        "**this command tells Python to add 2 onto the number that is within the parentheses, which in this case is 5**"
      ],
      "metadata": {
        "id": "DgTM5J9XdE-N"
      }
    },
    {
      "cell_type": "code",
      "source": [
        "square(add_two(5))"
      ],
      "metadata": {
        "colab": {
          "base_uri": "https://localhost:8080/"
        },
        "id": "Rbj7x0pYteTE",
        "outputId": "3f8c61fc-5c94-464a-bfe7-cb3f44f6d191"
      },
      "execution_count": 13,
      "outputs": [
        {
          "output_type": "execute_result",
          "data": {
            "text/plain": [
              "49"
            ]
          },
          "metadata": {},
          "execution_count": 13
        }
      ]
    },
    {
      "cell_type": "markdown",
      "source": [
        "**following the rules of PEMDAS, we will have Python complete what the operation that is within the parentheses first; once we get the total of what is inside the parenthesis, in this case 7, we will raise 7 to the second power, thus giving us an answer of 49**"
      ],
      "metadata": {
        "id": "BVCddowxdV_P"
      }
    },
    {
      "cell_type": "markdown",
      "source": [
        "### Logical Branching"
      ],
      "metadata": {
        "id": "xApDPXnTv2xj"
      }
    },
    {
      "cell_type": "code",
      "source": [
        "choice = \"apple\""
      ],
      "metadata": {
        "id": "e0M7Azbth_u3"
      },
      "execution_count": 14,
      "outputs": []
    },
    {
      "cell_type": "code",
      "source": [
        "if choice == \"apple\":\n",
        "\n",
        "    print(\"You choose apples.\")\n",
        "\n",
        "else:\n",
        "    \n",
        "    print(\"You did not choose apples.\")"
      ],
      "metadata": {
        "colab": {
          "base_uri": "https://localhost:8080/"
        },
        "id": "9VoLDXjgwSSx",
        "outputId": "9dc92754-da79-40f5-b93f-de5839d3ee9f"
      },
      "execution_count": 15,
      "outputs": [
        {
          "output_type": "stream",
          "name": "stdout",
          "text": [
            "You choose apples.\n"
          ]
        }
      ]
    },
    {
      "cell_type": "markdown",
      "source": [
        "**much like the coin flip, this is an at random command, so in order to show whether the choice provided in the code above is the result, Python will either show \"You choose apples\" or \"You did not choose apples\"**"
      ],
      "metadata": {
        "id": "aBOPUJGcnxmh"
      }
    },
    {
      "cell_type": "code",
      "source": [
        "choice = \"orange\""
      ],
      "metadata": {
        "id": "YueQEzQfwUwM"
      },
      "execution_count": 16,
      "outputs": []
    },
    {
      "cell_type": "code",
      "source": [
        "if choice == \"apple\":\n",
        "\n",
        "    print(\"You choose apples.\")\n",
        "\n",
        "else:\n",
        "    \n",
        "    print(\"You did not choose apples.\")"
      ],
      "metadata": {
        "colab": {
          "base_uri": "https://localhost:8080/"
        },
        "outputId": "236b48a1-a350-438e-850c-e131375b167d",
        "id": "P88tbCMiwUwN"
      },
      "execution_count": 17,
      "outputs": [
        {
          "output_type": "stream",
          "name": "stdout",
          "text": [
            "You did not choose apples.\n"
          ]
        }
      ]
    },
    {
      "cell_type": "code",
      "source": [
        "choice = \"apple\""
      ],
      "metadata": {
        "id": "pMJWHWfLCBAz"
      },
      "execution_count": 18,
      "outputs": []
    },
    {
      "cell_type": "code",
      "source": [
        "if choice == \"apple\":\n",
        "\n",
        "    print(\"You choose apples.\")\n",
        "    print(\"Thank you, shop again!\")\n",
        "    print(2**123)\n",
        "\n",
        "elif choice == \"orange\":\n",
        "\n",
        "    print(\"You choose oranges.\")\n",
        "    print(\"Thank you, shop again!\")\n",
        "\n",
        "else:\n",
        "    \n",
        "    print(\"You did not choose apples or oranges.\")\n",
        "    print(\"Thank you, shop again!\")"
      ],
      "metadata": {
        "colab": {
          "base_uri": "https://localhost:8080/"
        },
        "id": "aLYE3A7Qv5Oq",
        "outputId": "7ac4bb08-c309-4e08-ce68-3c6a55ecb86f"
      },
      "execution_count": 19,
      "outputs": [
        {
          "output_type": "stream",
          "name": "stdout",
          "text": [
            "You choose apples.\n",
            "Thank you, shop again!\n",
            "10633823966279326983230456482242756608\n"
          ]
        }
      ]
    },
    {
      "cell_type": "markdown",
      "source": [
        "### User Input"
      ],
      "metadata": {
        "id": "DS5-YMih0kcD"
      }
    },
    {
      "cell_type": "code",
      "source": [
        "choice = input(\"Please enter your choice (i.e. apple): \")"
      ],
      "metadata": {
        "id": "VtkIsuCmv5T4",
        "colab": {
          "base_uri": "https://localhost:8080/"
        },
        "outputId": "5062581e-e001-4c36-bdfe-1112de11f50a"
      },
      "execution_count": 21,
      "outputs": [
        {
          "name": "stdout",
          "output_type": "stream",
          "text": [
            "Please enter your choice (i.e. apple): apple\n"
          ]
        }
      ]
    },
    {
      "cell_type": "code",
      "source": [
        "choice"
      ],
      "metadata": {
        "colab": {
          "base_uri": "https://localhost:8080/",
          "height": 35
        },
        "id": "qRPsF5Njv5WL",
        "outputId": "9f8b9b31-f1ee-497a-f972-af7bc22b1d2e"
      },
      "execution_count": 22,
      "outputs": [
        {
          "output_type": "execute_result",
          "data": {
            "text/plain": [
              "'apple'"
            ],
            "application/vnd.google.colaboratory.intrinsic+json": {
              "type": "string"
            }
          },
          "metadata": {},
          "execution_count": 22
        }
      ]
    },
    {
      "cell_type": "code",
      "source": [
        "if choice == \"apple\":\n",
        "\n",
        "    print(\"You choose apples.\")\n",
        "\n",
        "elif choice == \"oranges\":\n",
        "\n",
        "    print(\"You choose oranges.\")\n",
        "\n",
        "else:\n",
        "    \n",
        "    print(\"You did not choose apples or oranges.\")"
      ],
      "metadata": {
        "id": "VAMAM01i0ytR",
        "colab": {
          "base_uri": "https://localhost:8080/"
        },
        "outputId": "1df6ff24-2cc5-42a4-8e72-f689f4592b70"
      },
      "execution_count": 23,
      "outputs": [
        {
          "output_type": "stream",
          "name": "stdout",
          "text": [
            "You choose apples.\n"
          ]
        }
      ]
    },
    {
      "cell_type": "markdown",
      "source": [
        "**just like the command where \"choice = 'oranges'\", Python will either show \"You choose apples\", \"You choose oranges\", or \"You did not choose apples or oranges\"**"
      ],
      "metadata": {
        "id": "Iwj41IbXobI1"
      }
    },
    {
      "cell_type": "markdown",
      "source": [
        "#### Coins"
      ],
      "metadata": {
        "id": "W-bPqHQs5WEW"
      }
    },
    {
      "cell_type": "code",
      "source": [
        "import numpy as np"
      ],
      "metadata": {
        "id": "NsaoeaK2uIMt"
      },
      "execution_count": 31,
      "outputs": []
    },
    {
      "cell_type": "code",
      "source": [
        "np.random.random()"
      ],
      "metadata": {
        "id": "Qo72tOfu5YTm",
        "colab": {
          "base_uri": "https://localhost:8080/"
        },
        "outputId": "a1ae5ebf-5eaf-494b-ef35-7c36849bd9d5"
      },
      "execution_count": 32,
      "outputs": [
        {
          "output_type": "execute_result",
          "data": {
            "text/plain": [
              "0.9509787338235391"
            ]
          },
          "metadata": {},
          "execution_count": 32
        }
      ]
    },
    {
      "cell_type": "markdown",
      "source": [
        "**when inserting the command \"np.random.random()\" Python will know that when we attempt to run this code, it will give us a number that is in between 0 and 1**"
      ],
      "metadata": {
        "id": "8AY7U4yRgraH"
      }
    },
    {
      "cell_type": "code",
      "source": [
        "np.random.random() > 0.5"
      ],
      "metadata": {
        "id": "Ew6vCebg5aXK",
        "colab": {
          "base_uri": "https://localhost:8080/"
        },
        "outputId": "4c351743-abac-4342-ee11-e8fecac53816"
      },
      "execution_count": 33,
      "outputs": [
        {
          "output_type": "execute_result",
          "data": {
            "text/plain": [
              "True"
            ]
          },
          "metadata": {},
          "execution_count": 33
        }
      ]
    },
    {
      "cell_type": "markdown",
      "source": [
        "**before running this command, it is crucial to run the previous code first because the result of this command is dependent upon the numerical value randomly picked out after running the previous code**"
      ],
      "metadata": {
        "id": "fhNiphohgsgF"
      }
    },
    {
      "cell_type": "code",
      "source": [
        "def flip_coin():\n",
        "    if np.random.random() > 0.5:\n",
        "        print(\"Heads\")\n",
        "    else:\n",
        "        print(\"Tails\")"
      ],
      "metadata": {
        "id": "HwbqZHbm5e2u"
      },
      "execution_count": 34,
      "outputs": []
    },
    {
      "cell_type": "markdown",
      "source": [
        "**this command is letting Python know that for every time it completes a \"coin flip\" and the numerical value is greater than 0.5, then an image of the heads side of a coin (a quarter) will be shown, however, if the numerical value is less than 0.5 Python will show an image of the tails side of a coin**"
      ],
      "metadata": {
        "id": "mj0NWz0Zgudw"
      }
    },
    {
      "cell_type": "code",
      "source": [
        "flip_coin()"
      ],
      "metadata": {
        "id": "ZcbnR1ln5sNh",
        "colab": {
          "base_uri": "https://localhost:8080/"
        },
        "outputId": "36d53a34-3879-46b7-e27e-3c1089eaf506"
      },
      "execution_count": 35,
      "outputs": [
        {
          "output_type": "stream",
          "name": "stdout",
          "text": [
            "Heads\n"
          ]
        }
      ]
    },
    {
      "cell_type": "markdown",
      "source": [
        "### Graphics Output"
      ],
      "metadata": {
        "id": "lrL2Razq9AT7"
      }
    },
    {
      "cell_type": "code",
      "metadata": {
        "id": "WPnpRgBWpoSP"
      },
      "source": [
        "from IPython.core.display import display, HTML"
      ],
      "execution_count": 36,
      "outputs": []
    },
    {
      "cell_type": "markdown",
      "source": [
        "**tells Python to import the image or text from the HTML**"
      ],
      "metadata": {
        "id": "rD2V6HlhuvNJ"
      }
    },
    {
      "cell_type": "code",
      "metadata": {
        "id": "scoPAjX5I36X",
        "colab": {
          "base_uri": "https://localhost:8080/",
          "height": 74
        },
        "outputId": "cd9cd2d2-dc9f-407d-efe1-7d6380184f85"
      },
      "source": [
        "display(HTML('<h1>Hello, world!</h1>'))"
      ],
      "execution_count": 37,
      "outputs": [
        {
          "output_type": "display_data",
          "data": {
            "text/plain": [
              "<IPython.core.display.HTML object>"
            ],
            "text/html": [
              "<h1>Hello, world!</h1>"
            ]
          },
          "metadata": {}
        }
      ]
    },
    {
      "cell_type": "markdown",
      "source": [
        "**tells Python to display the image or text from the HTML, which in this case is \"Hello, world!\"**"
      ],
      "metadata": {
        "id": "pcv1CiKgwtii"
      }
    },
    {
      "cell_type": "code",
      "metadata": {
        "id": "vFHNmtSRpyXg"
      },
      "source": [
        "def coin():\n",
        "  return np.random.randint(2)"
      ],
      "execution_count": 38,
      "outputs": []
    },
    {
      "cell_type": "code",
      "metadata": {
        "id": "AfAPWIjzp2gY",
        "colab": {
          "base_uri": "https://localhost:8080/"
        },
        "outputId": "ff86fe85-018a-4e00-c572-1a270cd63317"
      },
      "source": [
        "coin()"
      ],
      "execution_count": 39,
      "outputs": [
        {
          "output_type": "execute_result",
          "data": {
            "text/plain": [
              "1"
            ]
          },
          "metadata": {},
          "execution_count": 39
        }
      ]
    },
    {
      "cell_type": "code",
      "metadata": {
        "id": "m-fkSNLTp4TH",
        "colab": {
          "base_uri": "https://localhost:8080/",
          "height": 221
        },
        "outputId": "cc9f2b1e-fb4c-4a0a-bad5-bbc21641c9a2"
      },
      "source": [
        "display(HTML('<img src=\"https://random-ize.com/coin-flip/us-quarter/us-quarter-front.jpg\">'))"
      ],
      "execution_count": 40,
      "outputs": [
        {
          "output_type": "display_data",
          "data": {
            "text/plain": [
              "<IPython.core.display.HTML object>"
            ],
            "text/html": [
              "<img src=\"https://random-ize.com/coin-flip/us-quarter/us-quarter-front.jpg\">"
            ]
          },
          "metadata": {}
        }
      ]
    },
    {
      "cell_type": "code",
      "metadata": {
        "id": "PAyD2RQrq8ji"
      },
      "source": [
        "heads = 'https://random-ize.com/coin-flip/us-quarter/us-quarter-front.jpg'\n",
        "tails = 'https://random-ize.com/coin-flip/us-quarter/us-quarter-back.jpg'"
      ],
      "execution_count": 41,
      "outputs": []
    },
    {
      "cell_type": "markdown",
      "source": [
        "**providing the urls for an image of a quarter showing the heads side and an image of a quarter showing the tails side**"
      ],
      "metadata": {
        "id": "hDCQkIUZxxOG"
      }
    },
    {
      "cell_type": "code",
      "metadata": {
        "id": "BmZMzsCjrhaV"
      },
      "source": [
        "def show_img(img):\n",
        "  display(HTML('<img src=' + img + '>'))"
      ],
      "execution_count": 42,
      "outputs": []
    },
    {
      "cell_type": "markdown",
      "source": [
        "**letting Python know that whenever we attempt to run a command that says \"show_img(heads)\" or \"show_img(tails)\" that the image of that particular side of the coin will be displayed after the command is complete**"
      ],
      "metadata": {
        "id": "J4U6PQieyS8z"
      }
    },
    {
      "cell_type": "code",
      "metadata": {
        "id": "UmSs0Jtrr_d2",
        "colab": {
          "base_uri": "https://localhost:8080/",
          "height": 221
        },
        "outputId": "f43c0d27-0f46-43d1-91d2-d3b6b8f1b2df"
      },
      "source": [
        "show_img(heads)"
      ],
      "execution_count": 43,
      "outputs": [
        {
          "output_type": "display_data",
          "data": {
            "text/plain": [
              "<IPython.core.display.HTML object>"
            ],
            "text/html": [
              "<img src=https://random-ize.com/coin-flip/us-quarter/us-quarter-front.jpg>"
            ]
          },
          "metadata": {}
        }
      ]
    },
    {
      "cell_type": "code",
      "metadata": {
        "id": "LDcFpan0sBgm",
        "colab": {
          "base_uri": "https://localhost:8080/",
          "height": 221
        },
        "outputId": "a26f9984-172b-4131-c519-002d8e721788"
      },
      "source": [
        "show_img(tails)"
      ],
      "execution_count": 44,
      "outputs": [
        {
          "output_type": "display_data",
          "data": {
            "text/plain": [
              "<IPython.core.display.HTML object>"
            ],
            "text/html": [
              "<img src=https://random-ize.com/coin-flip/us-quarter/us-quarter-back.jpg>"
            ]
          },
          "metadata": {}
        }
      ]
    },
    {
      "cell_type": "code",
      "metadata": {
        "id": "U1Oe2gBlsFFQ"
      },
      "source": [
        "def flip_coin():\n",
        "\n",
        "    if coin():\n",
        "        show_img(heads)\n",
        "    else:\n",
        "        show_img(tails)"
      ],
      "execution_count": 45,
      "outputs": []
    },
    {
      "cell_type": "markdown",
      "source": [
        "**this is letting Python know that everytime the command \"flip_coin()\" is run to randomly \"flip\" the coin and report whether it \"landed\" on heads or tails by showing the image of that particular side**"
      ],
      "metadata": {
        "id": "58pljZinyhpD"
      }
    },
    {
      "cell_type": "code",
      "metadata": {
        "id": "qatV0cO1tLAF",
        "colab": {
          "base_uri": "https://localhost:8080/",
          "height": 221
        },
        "outputId": "5a1a882e-1a55-4e7d-aec9-941eb64c649b"
      },
      "source": [
        "flip_coin()"
      ],
      "execution_count": 46,
      "outputs": [
        {
          "output_type": "display_data",
          "data": {
            "text/plain": [
              "<IPython.core.display.HTML object>"
            ],
            "text/html": [
              "<img src=https://random-ize.com/coin-flip/us-quarter/us-quarter-back.jpg>"
            ]
          },
          "metadata": {}
        }
      ]
    },
    {
      "cell_type": "code",
      "source": [
        "for i in range(5):\n",
        "    flip_coin()"
      ],
      "metadata": {
        "id": "JK_63sBc9ze4"
      },
      "execution_count": null,
      "outputs": []
    },
    {
      "cell_type": "markdown",
      "source": [
        "**this lets Python know to flip the coin 5 times and show the result after each flip**"
      ],
      "metadata": {
        "id": "Ff51g4FWysHf"
      }
    },
    {
      "cell_type": "code",
      "metadata": {
        "id": "T6VX51Qwt4xb",
        "cellView": "form",
        "colab": {
          "base_uri": "https://localhost:8080/",
          "height": 221
        },
        "outputId": "c36ca226-105c-4e71-854b-6f5432ee976b"
      },
      "source": [
        "#@title Coin Flip\n",
        "\n",
        "if coin():\n",
        "\n",
        "  show_img(heads)\n",
        "\n",
        "else:\n",
        "\n",
        "  show_img(tails)"
      ],
      "execution_count": 47,
      "outputs": [
        {
          "output_type": "display_data",
          "data": {
            "text/plain": [
              "<IPython.core.display.HTML object>"
            ],
            "text/html": [
              "<img src=https://random-ize.com/coin-flip/us-quarter/us-quarter-front.jpg>"
            ]
          },
          "metadata": {}
        }
      ]
    },
    {
      "cell_type": "markdown",
      "source": [
        "### Cards"
      ],
      "metadata": {
        "id": "HYFhDwx-5Tmb"
      }
    },
    {
      "cell_type": "code",
      "source": [
        "def shuffle(x):\n",
        "    for i in range(len(x)-1,0,-1):\n",
        "        j = np.random.randint(0,i+1)\n",
        "        x[i],x[j] = x[j],x[i]\n",
        "        # print(j,x)\n",
        "    return x"
      ],
      "metadata": {
        "id": "Q7_rInrY0wvF"
      },
      "execution_count": 48,
      "outputs": []
    },
    {
      "cell_type": "code",
      "source": [
        "a = np.arange(52)"
      ],
      "metadata": {
        "id": "b_ywmb911RR0"
      },
      "execution_count": 49,
      "outputs": []
    },
    {
      "cell_type": "markdown",
      "source": [
        "**this code tells Python that whenever it sees the term \"a\" this means to involve the entire deck of cards in the command given, which consists of 52 total cards and is signified by the number in the set of parentheses**"
      ],
      "metadata": {
        "id": "6NWnbMFB5k61"
      }
    },
    {
      "cell_type": "code",
      "source": [
        "shuffle(a)"
      ],
      "metadata": {
        "id": "hp96Lx2n9tCg",
        "colab": {
          "base_uri": "https://localhost:8080/"
        },
        "outputId": "631e3a73-6eb3-4fb1-f487-ac0593fadf93"
      },
      "execution_count": 50,
      "outputs": [
        {
          "output_type": "execute_result",
          "data": {
            "text/plain": [
              "array([ 1, 51, 50,  6, 33,  4, 20,  7, 22,  8, 23, 30,  5, 17, 14, 31,  9,\n",
              "       37, 44, 47, 49, 21, 11, 10, 35, 13, 27, 28,  2, 45, 15, 24, 41, 25,\n",
              "       38, 34, 39, 46, 43,  3, 32, 26, 40, 19, 12, 42, 29, 18, 36, 16, 48,\n",
              "        0])"
            ]
          },
          "metadata": {},
          "execution_count": 50
        }
      ]
    },
    {
      "cell_type": "markdown",
      "source": [
        "**this code tells Python to shuffle the entire deck of cards**"
      ],
      "metadata": {
        "id": "jat9njt76NBq"
      }
    },
    {
      "cell_type": "code",
      "source": [
        "np.random.permutation(52)"
      ],
      "metadata": {
        "id": "DRlb5RrU2Xpz",
        "colab": {
          "base_uri": "https://localhost:8080/"
        },
        "outputId": "512f28a3-2eb4-4534-f105-c9bb823412a8"
      },
      "execution_count": 51,
      "outputs": [
        {
          "output_type": "execute_result",
          "data": {
            "text/plain": [
              "array([10, 27,  4, 31, 30, 19, 14, 33,  7, 42, 15, 34,  3, 16, 36,  9, 28,\n",
              "       26, 38,  6, 17, 21, 25,  1, 29, 44, 40, 47, 39, 43,  0, 35, 20, 49,\n",
              "       50,  8, 18, 41,  5,  2, 23, 12, 46, 13, 48, 22, 51, 24, 11, 37, 45,\n",
              "       32])"
            ]
          },
          "metadata": {},
          "execution_count": 51
        }
      ]
    },
    {
      "cell_type": "markdown",
      "source": [
        "**this signifies to Python that it must assemble numbers 1 to 52 into whatever random order that occurs**"
      ],
      "metadata": {
        "id": "htX0cTVV6ezf"
      }
    },
    {
      "cell_type": "markdown",
      "source": [
        "### Speed Test"
      ],
      "metadata": {
        "id": "qE1o4X7A-NnY"
      }
    },
    {
      "cell_type": "code",
      "source": [
        "%%timeit\n",
        "shuffle(a)"
      ],
      "metadata": {
        "id": "quhAyA2x-Dhg",
        "colab": {
          "base_uri": "https://localhost:8080/"
        },
        "outputId": "42c3c44c-5d7b-450c-8389-5a0a4ba143da"
      },
      "execution_count": 52,
      "outputs": [
        {
          "output_type": "stream",
          "name": "stdout",
          "text": [
            "172 µs ± 4.86 µs per loop (mean ± std. dev. of 7 runs, 10000 loops each)\n"
          ]
        }
      ]
    },
    {
      "cell_type": "code",
      "source": [
        "%%timeit\n",
        "np.random.permutation(52)"
      ],
      "metadata": {
        "id": "tSfGgWQD95RN",
        "colab": {
          "base_uri": "https://localhost:8080/"
        },
        "outputId": "10a78aff-7ecc-4789-c506-114c54cf6162"
      },
      "execution_count": 53,
      "outputs": [
        {
          "output_type": "stream",
          "name": "stdout",
          "text": [
            "3.51 µs ± 185 ns per loop (mean ± std. dev. of 7 runs, 100000 loops each)\n"
          ]
        }
      ]
    },
    {
      "cell_type": "code",
      "source": [
        "import numpy as np"
      ],
      "metadata": {
        "id": "BeE0MU3UDB5P"
      },
      "execution_count": 54,
      "outputs": []
    },
    {
      "cell_type": "code",
      "source": [
        "np.random.permutation(52)"
      ],
      "metadata": {
        "colab": {
          "base_uri": "https://localhost:8080/"
        },
        "id": "2d81sDv-C5fC",
        "outputId": "f9bfde57-3200-48d6-92a2-3f42721a9db7"
      },
      "execution_count": 55,
      "outputs": [
        {
          "output_type": "execute_result",
          "data": {
            "text/plain": [
              "array([45, 49, 40, 30, 43, 34, 50, 12, 11, 24, 32,  2, 37, 29, 16,  9, 42,\n",
              "        0, 39, 18, 25, 27, 41, 38, 46, 48, 15,  3, 44, 31, 20, 36, 17,  6,\n",
              "        7,  5, 10, 14,  8, 22, 13, 35, 28, 51, 21, 33, 47,  1,  4, 23, 26,\n",
              "       19])"
            ]
          },
          "metadata": {},
          "execution_count": 55
        }
      ]
    },
    {
      "cell_type": "code",
      "source": [
        "cards = np.random.permutation(52)"
      ],
      "metadata": {
        "id": "utgxB3Hs-XzM"
      },
      "execution_count": 56,
      "outputs": []
    },
    {
      "cell_type": "markdown",
      "source": [
        "**this signifies to Python that it must assemble the shuffled cards into whatever random order that occurs**"
      ],
      "metadata": {
        "id": "KHdJ4r_V7aD0"
      }
    },
    {
      "cell_type": "code",
      "source": [
        "cards"
      ],
      "metadata": {
        "colab": {
          "base_uri": "https://localhost:8080/"
        },
        "id": "ymjkesO4DeL8",
        "outputId": "cede54ff-fce3-4768-d4ae-122d5d0a6add"
      },
      "execution_count": 57,
      "outputs": [
        {
          "output_type": "execute_result",
          "data": {
            "text/plain": [
              "array([ 5, 15, 23, 14,  4, 25,  3, 36, 50,  1, 41, 19, 46, 44, 33, 10, 17,\n",
              "       27, 29, 31, 39, 21, 45, 24,  6, 18, 32, 20, 28, 16, 35, 51, 48,  8,\n",
              "       13, 37, 11, 34, 40,  9, 43, 49,  7, 26, 22, 12, 38,  2, 42, 30,  0,\n",
              "       47])"
            ]
          },
          "metadata": {},
          "execution_count": 57
        }
      ]
    },
    {
      "cell_type": "code",
      "source": [
        "cards[0]"
      ],
      "metadata": {
        "id": "aD_pF-bb2XMr",
        "colab": {
          "base_uri": "https://localhost:8080/"
        },
        "outputId": "3cf31dd4-5bbf-4a6d-f38e-2e6abfa0d130"
      },
      "execution_count": 58,
      "outputs": [
        {
          "output_type": "execute_result",
          "data": {
            "text/plain": [
              "5"
            ]
          },
          "metadata": {},
          "execution_count": 58
        }
      ]
    },
    {
      "cell_type": "code",
      "source": [
        "cards[1]"
      ],
      "metadata": {
        "colab": {
          "base_uri": "https://localhost:8080/"
        },
        "id": "oMX21ZDyC8GE",
        "outputId": "0c8bba0f-6fbd-4ab3-c00a-53c3b315a450"
      },
      "execution_count": 59,
      "outputs": [
        {
          "output_type": "execute_result",
          "data": {
            "text/plain": [
              "15"
            ]
          },
          "metadata": {},
          "execution_count": 59
        }
      ]
    },
    {
      "cell_type": "code",
      "source": [
        "cards[2]"
      ],
      "metadata": {
        "colab": {
          "base_uri": "https://localhost:8080/"
        },
        "id": "iHJdkqRiC8Li",
        "outputId": "a59516dd-715c-4088-97c9-0386fbc88ba4"
      },
      "execution_count": 60,
      "outputs": [
        {
          "output_type": "execute_result",
          "data": {
            "text/plain": [
              "23"
            ]
          },
          "metadata": {},
          "execution_count": 60
        }
      ]
    },
    {
      "cell_type": "markdown",
      "source": [
        "<img src='http://www.milefoot.com/math/discrete/counting/images/cards.png'>"
      ],
      "metadata": {
        "id": "4nzZ-igCdyI2"
      }
    },
    {
      "cell_type": "markdown",
      "source": [
        "**this provides a visual display of a deck of cards when they are arranged into rows order of increasing value and suit type**"
      ],
      "metadata": {
        "id": "buMY4yaY8qSN"
      }
    },
    {
      "cell_type": "code",
      "source": [
        "np.arange(52).reshape(4,13)"
      ],
      "metadata": {
        "id": "X2kL-cZdeMLN",
        "colab": {
          "base_uri": "https://localhost:8080/"
        },
        "outputId": "cbb00723-2184-4633-b3f9-b0e978f77df0"
      },
      "execution_count": 61,
      "outputs": [
        {
          "output_type": "execute_result",
          "data": {
            "text/plain": [
              "array([[ 0,  1,  2,  3,  4,  5,  6,  7,  8,  9, 10, 11, 12],\n",
              "       [13, 14, 15, 16, 17, 18, 19, 20, 21, 22, 23, 24, 25],\n",
              "       [26, 27, 28, 29, 30, 31, 32, 33, 34, 35, 36, 37, 38],\n",
              "       [39, 40, 41, 42, 43, 44, 45, 46, 47, 48, 49, 50, 51]])"
            ]
          },
          "metadata": {},
          "execution_count": 61
        }
      ]
    },
    {
      "cell_type": "code",
      "source": [
        "np.arange(52).reshape(4,13)%13"
      ],
      "metadata": {
        "id": "YfRxhh8BeV_a",
        "colab": {
          "base_uri": "https://localhost:8080/"
        },
        "outputId": "136382ff-bef1-4a35-ae4d-bc2b4d5d7941"
      },
      "execution_count": 62,
      "outputs": [
        {
          "output_type": "execute_result",
          "data": {
            "text/plain": [
              "array([[ 0,  1,  2,  3,  4,  5,  6,  7,  8,  9, 10, 11, 12],\n",
              "       [ 0,  1,  2,  3,  4,  5,  6,  7,  8,  9, 10, 11, 12],\n",
              "       [ 0,  1,  2,  3,  4,  5,  6,  7,  8,  9, 10, 11, 12],\n",
              "       [ 0,  1,  2,  3,  4,  5,  6,  7,  8,  9, 10, 11, 12]])"
            ]
          },
          "metadata": {},
          "execution_count": 62
        }
      ]
    },
    {
      "cell_type": "code",
      "source": [
        "np.arange(52).reshape(4,13)//13"
      ],
      "metadata": {
        "id": "fdzIqJr9e60L",
        "colab": {
          "base_uri": "https://localhost:8080/"
        },
        "outputId": "66d20262-1b8a-4d68-f8a6-1981607ec4b9"
      },
      "execution_count": 63,
      "outputs": [
        {
          "output_type": "execute_result",
          "data": {
            "text/plain": [
              "array([[0, 0, 0, 0, 0, 0, 0, 0, 0, 0, 0, 0, 0],\n",
              "       [1, 1, 1, 1, 1, 1, 1, 1, 1, 1, 1, 1, 1],\n",
              "       [2, 2, 2, 2, 2, 2, 2, 2, 2, 2, 2, 2, 2],\n",
              "       [3, 3, 3, 3, 3, 3, 3, 3, 3, 3, 3, 3, 3]])"
            ]
          },
          "metadata": {},
          "execution_count": 63
        }
      ]
    },
    {
      "cell_type": "code",
      "source": [
        "suits = ['Clubs','Spades','Hearts','Diamonds']\n",
        "names = ['Ace','Two','Three','Four','Five','Six','Seven','Eight','Nine','Ten','Jack','Queen','King']"
      ],
      "metadata": {
        "id": "-xUjbfkQfUgL"
      },
      "execution_count": 64,
      "outputs": []
    },
    {
      "cell_type": "markdown",
      "source": [
        "**this code separates the cards into 2 separate categories, which are the symbols called suits present on every card respectively and the potential values that any card can have within the deck**"
      ],
      "metadata": {
        "id": "a5XiiXkw7kah"
      }
    },
    {
      "cell_type": "code",
      "source": [
        "def card_name(card_number):\n",
        "    \n",
        "    suit = card_number//13\n",
        "    name = card_number%13\n",
        "\n",
        "    return names[name] + \" of \" + suits[suit]"
      ],
      "metadata": {
        "id": "-e-I-Cp7eFnx"
      },
      "execution_count": 65,
      "outputs": []
    },
    {
      "cell_type": "markdown",
      "source": [
        "**tells Python that whenever such a code as this one is run that it provides the name of the suit of this particular card**"
      ],
      "metadata": {
        "id": "br4XwKGi8KFK"
      }
    },
    {
      "cell_type": "code",
      "source": [
        "card_name(0)"
      ],
      "metadata": {
        "colab": {
          "base_uri": "https://localhost:8080/",
          "height": 35
        },
        "id": "3Jz3yyAtGPfX",
        "outputId": "7d187549-a843-40ac-9868-c33fb953f101"
      },
      "execution_count": 66,
      "outputs": [
        {
          "output_type": "execute_result",
          "data": {
            "text/plain": [
              "'Ace of Clubs'"
            ],
            "application/vnd.google.colaboratory.intrinsic+json": {
              "type": "string"
            }
          },
          "metadata": {},
          "execution_count": 66
        }
      ]
    },
    {
      "cell_type": "code",
      "source": [
        "card_name(51)"
      ],
      "metadata": {
        "colab": {
          "base_uri": "https://localhost:8080/",
          "height": 35
        },
        "id": "WO3GC8uiGPp-",
        "outputId": "9e10b263-cfdf-4613-ca04-2868d40cc026"
      },
      "execution_count": 67,
      "outputs": [
        {
          "output_type": "execute_result",
          "data": {
            "text/plain": [
              "'King of Diamonds'"
            ],
            "application/vnd.google.colaboratory.intrinsic+json": {
              "type": "string"
            }
          },
          "metadata": {},
          "execution_count": 67
        }
      ]
    },
    {
      "cell_type": "code",
      "source": [
        "cards = np.random.permutation(52)"
      ],
      "metadata": {
        "id": "fAMR6SY43iB_"
      },
      "execution_count": 68,
      "outputs": []
    },
    {
      "cell_type": "code",
      "source": [
        "top_of_deck         = card_name(cards[0])\n",
        "second_card_in_deck = card_name(cards[1])\n",
        "last_card_in_deck   = card_name(cards[-1])"
      ],
      "metadata": {
        "id": "XGAe8yPY3iCA"
      },
      "execution_count": 69,
      "outputs": []
    },
    {
      "cell_type": "code",
      "source": [
        "top_of_deck, second_card_in_deck, last_card_in_deck"
      ],
      "metadata": {
        "id": "erDo7giQ3fg6",
        "colab": {
          "base_uri": "https://localhost:8080/"
        },
        "outputId": "8cc23ec3-57a6-43d0-e528-2c353b90d0cb"
      },
      "execution_count": 70,
      "outputs": [
        {
          "output_type": "execute_result",
          "data": {
            "text/plain": [
              "('Seven of Clubs', 'Ace of Hearts', 'Nine of Diamonds')"
            ]
          },
          "metadata": {},
          "execution_count": 70
        }
      ]
    },
    {
      "cell_type": "markdown",
      "source": [
        "**provides the suit type of each of the cards that is at the top of the deck, the second, and at the bottom/the last card within the deck**"
      ],
      "metadata": {
        "id": "q9zufaEt9SR4"
      }
    },
    {
      "cell_type": "code",
      "source": [
        "for i in range(5):\n",
        "    print(card_name(cards[i]))"
      ],
      "metadata": {
        "id": "D_TDdCHv30GR",
        "colab": {
          "base_uri": "https://localhost:8080/"
        },
        "outputId": "35dbc21e-f2ab-45b6-ed87-2b859a379972"
      },
      "execution_count": 71,
      "outputs": [
        {
          "output_type": "stream",
          "name": "stdout",
          "text": [
            "Seven of Clubs\n",
            "Ace of Hearts\n",
            "Queen of Clubs\n",
            "Queen of Hearts\n",
            "Queen of Spades\n"
          ]
        }
      ]
    },
    {
      "cell_type": "markdown",
      "source": [
        "**tells Python to provide the name and the number of 5 cards within the deck at random**"
      ],
      "metadata": {
        "id": "sQQmhb6V9j00"
      }
    },
    {
      "cell_type": "code",
      "source": [
        "for i in range(15):\n",
        "    print(card_name(cards[i]))"
      ],
      "metadata": {
        "colab": {
          "base_uri": "https://localhost:8080/"
        },
        "id": "_g9tC5TNHvXh",
        "outputId": "e83a41f8-d3d2-430f-ce5d-788d181e584f"
      },
      "execution_count": null,
      "outputs": [
        {
          "output_type": "stream",
          "name": "stdout",
          "text": [
            "Seven of Hearts\n",
            "Ace of Clubs\n",
            "King of Diamonds\n",
            "Four of Hearts\n",
            "Two of Hearts\n",
            "Three of Spades\n",
            "Ace of Diamonds\n",
            "Seven of Diamonds\n",
            "Four of Diamonds\n",
            "King of Clubs\n",
            "Five of Hearts\n",
            "Three of Hearts\n",
            "Six of Diamonds\n",
            "Nine of Hearts\n",
            "Eight of Hearts\n"
          ]
        }
      ]
    },
    {
      "cell_type": "markdown",
      "source": [
        "**tells Python to provide the name and the number of 15 cards within the deck at random**"
      ],
      "metadata": {
        "id": "zf0B3zaN9-aP"
      }
    },
    {
      "cell_type": "markdown",
      "source": [
        "https://www.improvemagic.com/all-playing-cards-names-with-pictures/"
      ],
      "metadata": {
        "id": "vdqtmIBN_a7r"
      }
    },
    {
      "cell_type": "code",
      "source": [
        "card_url_head = \"https://www.improvemagic.com/wp-content/uploads/2020/11/\"\n",
        "card_url_tail = \".png\""
      ],
      "metadata": {
        "id": "ZuGAbJIC_BGM"
      },
      "execution_count": 72,
      "outputs": []
    },
    {
      "cell_type": "code",
      "source": [
        "suit = ['k','p','s','l']\n",
        "card = ['a','2','3','4','5','6','7','8','9','10','j','q','k']"
      ],
      "metadata": {
        "id": "FSYUTq2F_BIx"
      },
      "execution_count": 73,
      "outputs": []
    },
    {
      "cell_type": "code",
      "source": [
        "i = np.random.randint(4)\n",
        "j = np.random.randint(13)"
      ],
      "metadata": {
        "id": "4UBNVwxU_BL5"
      },
      "execution_count": 74,
      "outputs": []
    },
    {
      "cell_type": "code",
      "source": [
        "i,j"
      ],
      "metadata": {
        "colab": {
          "base_uri": "https://localhost:8080/"
        },
        "id": "pAx5veOKJYqk",
        "outputId": "63b0c06e-cbd7-4cac-9c83-fe564b8c21dc"
      },
      "execution_count": 75,
      "outputs": [
        {
          "output_type": "execute_result",
          "data": {
            "text/plain": [
              "(2, 10)"
            ]
          },
          "metadata": {},
          "execution_count": 75
        }
      ]
    },
    {
      "cell_type": "code",
      "source": [
        "suit[i]"
      ],
      "metadata": {
        "id": "PJI87rOLADjE",
        "colab": {
          "base_uri": "https://localhost:8080/",
          "height": 35
        },
        "outputId": "48254539-0e51-4b61-bc4e-99ad7fb581b5"
      },
      "execution_count": 76,
      "outputs": [
        {
          "output_type": "execute_result",
          "data": {
            "text/plain": [
              "'s'"
            ],
            "application/vnd.google.colaboratory.intrinsic+json": {
              "type": "string"
            }
          },
          "metadata": {},
          "execution_count": 76
        }
      ]
    },
    {
      "cell_type": "code",
      "source": [
        "card[j]"
      ],
      "metadata": {
        "id": "4CDlPu3QAGrB",
        "colab": {
          "base_uri": "https://localhost:8080/",
          "height": 35
        },
        "outputId": "fb1128fa-1ffd-4103-bc36-319091a3ed2a"
      },
      "execution_count": 77,
      "outputs": [
        {
          "output_type": "execute_result",
          "data": {
            "text/plain": [
              "'j'"
            ],
            "application/vnd.google.colaboratory.intrinsic+json": {
              "type": "string"
            }
          },
          "metadata": {},
          "execution_count": 77
        }
      ]
    },
    {
      "cell_type": "code",
      "source": [
        "from IPython.core.display import display, HTML"
      ],
      "metadata": {
        "id": "nMrvAOnhK7EK"
      },
      "execution_count": 78,
      "outputs": []
    },
    {
      "cell_type": "code",
      "source": [
        "def show_img(img):\n",
        "  display(HTML('<img src=' + img + '>'))"
      ],
      "metadata": {
        "id": "sdXvvvlkAI6h"
      },
      "execution_count": 79,
      "outputs": []
    },
    {
      "cell_type": "markdown",
      "source": [
        "**letting Python know that whenever we attempt to run a command that says \"show_img(img)\" that an image of the card, which will consist of its number and suit type**"
      ],
      "metadata": {
        "id": "9OeVinJs-RuB"
      }
    },
    {
      "cell_type": "code",
      "source": [
        "img = card_url_head + suit[i] + card[j] + card_url_tail"
      ],
      "metadata": {
        "id": "ZE-ENtczAVsM"
      },
      "execution_count": 80,
      "outputs": []
    },
    {
      "cell_type": "markdown",
      "source": [
        "**provides the details of what img means**"
      ],
      "metadata": {
        "id": "OpgjL3u9-uXH"
      }
    },
    {
      "cell_type": "code",
      "source": [
        "show_img(img)"
      ],
      "metadata": {
        "id": "XJpPMK-NAVu4",
        "colab": {
          "base_uri": "https://localhost:8080/",
          "height": 333
        },
        "outputId": "5cb9ee35-0f97-4f8c-a7f3-904f54d7fda8"
      },
      "execution_count": 81,
      "outputs": [
        {
          "output_type": "display_data",
          "data": {
            "text/plain": [
              "<IPython.core.display.HTML object>"
            ],
            "text/html": [
              "<img src=https://www.improvemagic.com/wp-content/uploads/2020/11/sj.png>"
            ]
          },
          "metadata": {}
        }
      ]
    },
    {
      "cell_type": "code",
      "source": [
        "def card_image(card_number):\n",
        "    \n",
        "    i = card_number//13\n",
        "    j = card_number%13\n",
        "\n",
        "    return suit[i]+card[j]"
      ],
      "metadata": {
        "id": "JtqOFl_WAVxd"
      },
      "execution_count": 82,
      "outputs": []
    },
    {
      "cell_type": "code",
      "source": [
        "card_image(3)"
      ],
      "metadata": {
        "id": "K1MVgXJ-AVz0",
        "colab": {
          "base_uri": "https://localhost:8080/",
          "height": 35
        },
        "outputId": "fa5b897e-c09a-40da-e450-dadde5841ba5"
      },
      "execution_count": 83,
      "outputs": [
        {
          "output_type": "execute_result",
          "data": {
            "text/plain": [
              "'k4'"
            ],
            "application/vnd.google.colaboratory.intrinsic+json": {
              "type": "string"
            }
          },
          "metadata": {},
          "execution_count": 83
        }
      ]
    },
    {
      "cell_type": "code",
      "source": [
        "img = card_url_head + card_image(3) + card_url_tail"
      ],
      "metadata": {
        "id": "2TGYbXUiB1iw"
      },
      "execution_count": 84,
      "outputs": []
    },
    {
      "cell_type": "code",
      "source": [
        "show_img(img)"
      ],
      "metadata": {
        "id": "Ve1UcoH3B5sS",
        "colab": {
          "base_uri": "https://localhost:8080/",
          "height": 333
        },
        "outputId": "eb445b8d-c4c8-488e-d026-a66382d525de"
      },
      "execution_count": 85,
      "outputs": [
        {
          "output_type": "display_data",
          "data": {
            "text/plain": [
              "<IPython.core.display.HTML object>"
            ],
            "text/html": [
              "<img src=https://www.improvemagic.com/wp-content/uploads/2020/11/k4.png>"
            ]
          },
          "metadata": {}
        }
      ]
    },
    {
      "cell_type": "code",
      "source": [
        "for i in range(52):\n",
        "    img = card_url_head + card_image(i) + card_url_tail\n",
        "    show_img(img)"
      ],
      "metadata": {
        "id": "UCervcFTB5ut",
        "colab": {
          "base_uri": "https://localhost:8080/",
          "height": 1000
        },
        "outputId": "0b0a6453-d07f-49ca-de46-31f34eb3dd67"
      },
      "execution_count": 86,
      "outputs": [
        {
          "output_type": "display_data",
          "data": {
            "text/plain": [
              "<IPython.core.display.HTML object>"
            ],
            "text/html": [
              "<img src=https://www.improvemagic.com/wp-content/uploads/2020/11/ka.png>"
            ]
          },
          "metadata": {}
        },
        {
          "output_type": "display_data",
          "data": {
            "text/plain": [
              "<IPython.core.display.HTML object>"
            ],
            "text/html": [
              "<img src=https://www.improvemagic.com/wp-content/uploads/2020/11/k2.png>"
            ]
          },
          "metadata": {}
        },
        {
          "output_type": "display_data",
          "data": {
            "text/plain": [
              "<IPython.core.display.HTML object>"
            ],
            "text/html": [
              "<img src=https://www.improvemagic.com/wp-content/uploads/2020/11/k3.png>"
            ]
          },
          "metadata": {}
        },
        {
          "output_type": "display_data",
          "data": {
            "text/plain": [
              "<IPython.core.display.HTML object>"
            ],
            "text/html": [
              "<img src=https://www.improvemagic.com/wp-content/uploads/2020/11/k4.png>"
            ]
          },
          "metadata": {}
        },
        {
          "output_type": "display_data",
          "data": {
            "text/plain": [
              "<IPython.core.display.HTML object>"
            ],
            "text/html": [
              "<img src=https://www.improvemagic.com/wp-content/uploads/2020/11/k5.png>"
            ]
          },
          "metadata": {}
        },
        {
          "output_type": "display_data",
          "data": {
            "text/plain": [
              "<IPython.core.display.HTML object>"
            ],
            "text/html": [
              "<img src=https://www.improvemagic.com/wp-content/uploads/2020/11/k6.png>"
            ]
          },
          "metadata": {}
        },
        {
          "output_type": "display_data",
          "data": {
            "text/plain": [
              "<IPython.core.display.HTML object>"
            ],
            "text/html": [
              "<img src=https://www.improvemagic.com/wp-content/uploads/2020/11/k7.png>"
            ]
          },
          "metadata": {}
        },
        {
          "output_type": "display_data",
          "data": {
            "text/plain": [
              "<IPython.core.display.HTML object>"
            ],
            "text/html": [
              "<img src=https://www.improvemagic.com/wp-content/uploads/2020/11/k8.png>"
            ]
          },
          "metadata": {}
        },
        {
          "output_type": "display_data",
          "data": {
            "text/plain": [
              "<IPython.core.display.HTML object>"
            ],
            "text/html": [
              "<img src=https://www.improvemagic.com/wp-content/uploads/2020/11/k9.png>"
            ]
          },
          "metadata": {}
        },
        {
          "output_type": "display_data",
          "data": {
            "text/plain": [
              "<IPython.core.display.HTML object>"
            ],
            "text/html": [
              "<img src=https://www.improvemagic.com/wp-content/uploads/2020/11/k10.png>"
            ]
          },
          "metadata": {}
        },
        {
          "output_type": "display_data",
          "data": {
            "text/plain": [
              "<IPython.core.display.HTML object>"
            ],
            "text/html": [
              "<img src=https://www.improvemagic.com/wp-content/uploads/2020/11/kj.png>"
            ]
          },
          "metadata": {}
        },
        {
          "output_type": "display_data",
          "data": {
            "text/plain": [
              "<IPython.core.display.HTML object>"
            ],
            "text/html": [
              "<img src=https://www.improvemagic.com/wp-content/uploads/2020/11/kq.png>"
            ]
          },
          "metadata": {}
        },
        {
          "output_type": "display_data",
          "data": {
            "text/plain": [
              "<IPython.core.display.HTML object>"
            ],
            "text/html": [
              "<img src=https://www.improvemagic.com/wp-content/uploads/2020/11/kk.png>"
            ]
          },
          "metadata": {}
        },
        {
          "output_type": "display_data",
          "data": {
            "text/plain": [
              "<IPython.core.display.HTML object>"
            ],
            "text/html": [
              "<img src=https://www.improvemagic.com/wp-content/uploads/2020/11/pa.png>"
            ]
          },
          "metadata": {}
        },
        {
          "output_type": "display_data",
          "data": {
            "text/plain": [
              "<IPython.core.display.HTML object>"
            ],
            "text/html": [
              "<img src=https://www.improvemagic.com/wp-content/uploads/2020/11/p2.png>"
            ]
          },
          "metadata": {}
        },
        {
          "output_type": "display_data",
          "data": {
            "text/plain": [
              "<IPython.core.display.HTML object>"
            ],
            "text/html": [
              "<img src=https://www.improvemagic.com/wp-content/uploads/2020/11/p3.png>"
            ]
          },
          "metadata": {}
        },
        {
          "output_type": "display_data",
          "data": {
            "text/plain": [
              "<IPython.core.display.HTML object>"
            ],
            "text/html": [
              "<img src=https://www.improvemagic.com/wp-content/uploads/2020/11/p4.png>"
            ]
          },
          "metadata": {}
        },
        {
          "output_type": "display_data",
          "data": {
            "text/plain": [
              "<IPython.core.display.HTML object>"
            ],
            "text/html": [
              "<img src=https://www.improvemagic.com/wp-content/uploads/2020/11/p5.png>"
            ]
          },
          "metadata": {}
        },
        {
          "output_type": "display_data",
          "data": {
            "text/plain": [
              "<IPython.core.display.HTML object>"
            ],
            "text/html": [
              "<img src=https://www.improvemagic.com/wp-content/uploads/2020/11/p6.png>"
            ]
          },
          "metadata": {}
        },
        {
          "output_type": "display_data",
          "data": {
            "text/plain": [
              "<IPython.core.display.HTML object>"
            ],
            "text/html": [
              "<img src=https://www.improvemagic.com/wp-content/uploads/2020/11/p7.png>"
            ]
          },
          "metadata": {}
        },
        {
          "output_type": "display_data",
          "data": {
            "text/plain": [
              "<IPython.core.display.HTML object>"
            ],
            "text/html": [
              "<img src=https://www.improvemagic.com/wp-content/uploads/2020/11/p8.png>"
            ]
          },
          "metadata": {}
        },
        {
          "output_type": "display_data",
          "data": {
            "text/plain": [
              "<IPython.core.display.HTML object>"
            ],
            "text/html": [
              "<img src=https://www.improvemagic.com/wp-content/uploads/2020/11/p9.png>"
            ]
          },
          "metadata": {}
        },
        {
          "output_type": "display_data",
          "data": {
            "text/plain": [
              "<IPython.core.display.HTML object>"
            ],
            "text/html": [
              "<img src=https://www.improvemagic.com/wp-content/uploads/2020/11/p10.png>"
            ]
          },
          "metadata": {}
        },
        {
          "output_type": "display_data",
          "data": {
            "text/plain": [
              "<IPython.core.display.HTML object>"
            ],
            "text/html": [
              "<img src=https://www.improvemagic.com/wp-content/uploads/2020/11/pj.png>"
            ]
          },
          "metadata": {}
        },
        {
          "output_type": "display_data",
          "data": {
            "text/plain": [
              "<IPython.core.display.HTML object>"
            ],
            "text/html": [
              "<img src=https://www.improvemagic.com/wp-content/uploads/2020/11/pq.png>"
            ]
          },
          "metadata": {}
        },
        {
          "output_type": "display_data",
          "data": {
            "text/plain": [
              "<IPython.core.display.HTML object>"
            ],
            "text/html": [
              "<img src=https://www.improvemagic.com/wp-content/uploads/2020/11/pk.png>"
            ]
          },
          "metadata": {}
        },
        {
          "output_type": "display_data",
          "data": {
            "text/plain": [
              "<IPython.core.display.HTML object>"
            ],
            "text/html": [
              "<img src=https://www.improvemagic.com/wp-content/uploads/2020/11/sa.png>"
            ]
          },
          "metadata": {}
        },
        {
          "output_type": "display_data",
          "data": {
            "text/plain": [
              "<IPython.core.display.HTML object>"
            ],
            "text/html": [
              "<img src=https://www.improvemagic.com/wp-content/uploads/2020/11/s2.png>"
            ]
          },
          "metadata": {}
        },
        {
          "output_type": "display_data",
          "data": {
            "text/plain": [
              "<IPython.core.display.HTML object>"
            ],
            "text/html": [
              "<img src=https://www.improvemagic.com/wp-content/uploads/2020/11/s3.png>"
            ]
          },
          "metadata": {}
        },
        {
          "output_type": "display_data",
          "data": {
            "text/plain": [
              "<IPython.core.display.HTML object>"
            ],
            "text/html": [
              "<img src=https://www.improvemagic.com/wp-content/uploads/2020/11/s4.png>"
            ]
          },
          "metadata": {}
        },
        {
          "output_type": "display_data",
          "data": {
            "text/plain": [
              "<IPython.core.display.HTML object>"
            ],
            "text/html": [
              "<img src=https://www.improvemagic.com/wp-content/uploads/2020/11/s5.png>"
            ]
          },
          "metadata": {}
        },
        {
          "output_type": "display_data",
          "data": {
            "text/plain": [
              "<IPython.core.display.HTML object>"
            ],
            "text/html": [
              "<img src=https://www.improvemagic.com/wp-content/uploads/2020/11/s6.png>"
            ]
          },
          "metadata": {}
        },
        {
          "output_type": "display_data",
          "data": {
            "text/plain": [
              "<IPython.core.display.HTML object>"
            ],
            "text/html": [
              "<img src=https://www.improvemagic.com/wp-content/uploads/2020/11/s7.png>"
            ]
          },
          "metadata": {}
        },
        {
          "output_type": "display_data",
          "data": {
            "text/plain": [
              "<IPython.core.display.HTML object>"
            ],
            "text/html": [
              "<img src=https://www.improvemagic.com/wp-content/uploads/2020/11/s8.png>"
            ]
          },
          "metadata": {}
        },
        {
          "output_type": "display_data",
          "data": {
            "text/plain": [
              "<IPython.core.display.HTML object>"
            ],
            "text/html": [
              "<img src=https://www.improvemagic.com/wp-content/uploads/2020/11/s9.png>"
            ]
          },
          "metadata": {}
        },
        {
          "output_type": "display_data",
          "data": {
            "text/plain": [
              "<IPython.core.display.HTML object>"
            ],
            "text/html": [
              "<img src=https://www.improvemagic.com/wp-content/uploads/2020/11/s10.png>"
            ]
          },
          "metadata": {}
        },
        {
          "output_type": "display_data",
          "data": {
            "text/plain": [
              "<IPython.core.display.HTML object>"
            ],
            "text/html": [
              "<img src=https://www.improvemagic.com/wp-content/uploads/2020/11/sj.png>"
            ]
          },
          "metadata": {}
        },
        {
          "output_type": "display_data",
          "data": {
            "text/plain": [
              "<IPython.core.display.HTML object>"
            ],
            "text/html": [
              "<img src=https://www.improvemagic.com/wp-content/uploads/2020/11/sq.png>"
            ]
          },
          "metadata": {}
        },
        {
          "output_type": "display_data",
          "data": {
            "text/plain": [
              "<IPython.core.display.HTML object>"
            ],
            "text/html": [
              "<img src=https://www.improvemagic.com/wp-content/uploads/2020/11/sk.png>"
            ]
          },
          "metadata": {}
        },
        {
          "output_type": "display_data",
          "data": {
            "text/plain": [
              "<IPython.core.display.HTML object>"
            ],
            "text/html": [
              "<img src=https://www.improvemagic.com/wp-content/uploads/2020/11/la.png>"
            ]
          },
          "metadata": {}
        },
        {
          "output_type": "display_data",
          "data": {
            "text/plain": [
              "<IPython.core.display.HTML object>"
            ],
            "text/html": [
              "<img src=https://www.improvemagic.com/wp-content/uploads/2020/11/l2.png>"
            ]
          },
          "metadata": {}
        },
        {
          "output_type": "display_data",
          "data": {
            "text/plain": [
              "<IPython.core.display.HTML object>"
            ],
            "text/html": [
              "<img src=https://www.improvemagic.com/wp-content/uploads/2020/11/l3.png>"
            ]
          },
          "metadata": {}
        },
        {
          "output_type": "display_data",
          "data": {
            "text/plain": [
              "<IPython.core.display.HTML object>"
            ],
            "text/html": [
              "<img src=https://www.improvemagic.com/wp-content/uploads/2020/11/l4.png>"
            ]
          },
          "metadata": {}
        },
        {
          "output_type": "display_data",
          "data": {
            "text/plain": [
              "<IPython.core.display.HTML object>"
            ],
            "text/html": [
              "<img src=https://www.improvemagic.com/wp-content/uploads/2020/11/l5.png>"
            ]
          },
          "metadata": {}
        },
        {
          "output_type": "display_data",
          "data": {
            "text/plain": [
              "<IPython.core.display.HTML object>"
            ],
            "text/html": [
              "<img src=https://www.improvemagic.com/wp-content/uploads/2020/11/l6.png>"
            ]
          },
          "metadata": {}
        },
        {
          "output_type": "display_data",
          "data": {
            "text/plain": [
              "<IPython.core.display.HTML object>"
            ],
            "text/html": [
              "<img src=https://www.improvemagic.com/wp-content/uploads/2020/11/l7.png>"
            ]
          },
          "metadata": {}
        },
        {
          "output_type": "display_data",
          "data": {
            "text/plain": [
              "<IPython.core.display.HTML object>"
            ],
            "text/html": [
              "<img src=https://www.improvemagic.com/wp-content/uploads/2020/11/l8.png>"
            ]
          },
          "metadata": {}
        },
        {
          "output_type": "display_data",
          "data": {
            "text/plain": [
              "<IPython.core.display.HTML object>"
            ],
            "text/html": [
              "<img src=https://www.improvemagic.com/wp-content/uploads/2020/11/l9.png>"
            ]
          },
          "metadata": {}
        },
        {
          "output_type": "display_data",
          "data": {
            "text/plain": [
              "<IPython.core.display.HTML object>"
            ],
            "text/html": [
              "<img src=https://www.improvemagic.com/wp-content/uploads/2020/11/l10.png>"
            ]
          },
          "metadata": {}
        },
        {
          "output_type": "display_data",
          "data": {
            "text/plain": [
              "<IPython.core.display.HTML object>"
            ],
            "text/html": [
              "<img src=https://www.improvemagic.com/wp-content/uploads/2020/11/lj.png>"
            ]
          },
          "metadata": {}
        },
        {
          "output_type": "display_data",
          "data": {
            "text/plain": [
              "<IPython.core.display.HTML object>"
            ],
            "text/html": [
              "<img src=https://www.improvemagic.com/wp-content/uploads/2020/11/lq.png>"
            ]
          },
          "metadata": {}
        },
        {
          "output_type": "display_data",
          "data": {
            "text/plain": [
              "<IPython.core.display.HTML object>"
            ],
            "text/html": [
              "<img src=https://www.improvemagic.com/wp-content/uploads/2020/11/lk.png>"
            ]
          },
          "metadata": {}
        }
      ]
    },
    {
      "cell_type": "markdown",
      "source": [
        "**shows the images of all 52 cards in the deck**"
      ],
      "metadata": {
        "id": "Ym7u-DWM_HJR"
      }
    }
  ]
}