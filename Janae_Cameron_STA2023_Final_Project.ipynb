{
  "cells": [
    {
      "cell_type": "markdown",
      "metadata": {
        "id": "view-in-github",
        "colab_type": "text"
      },
      "source": [
        "<a href=\"https://colab.research.google.com/github/janaecameron/Data_Science_Work/blob/main/Janae_Cameron_STA2023_Final_Project.ipynb\" target=\"_parent\"><img src=\"https://colab.research.google.com/assets/colab-badge.svg\" alt=\"Open In Colab\"/></a>"
      ]
    },
    {
      "cell_type": "markdown",
      "source": [
        "# STA 2023 Final Project\n",
        "## Directions:\n",
        "\n",
        "1) Replace the image dataset in the google slides with your own data.\n",
        "\n",
        "2) Comment and explain all code to the best of your ability.\n",
        "\n",
        "3) Run your model 3 times. \n",
        "\n",
        "4) Report best, worst, and average of the three runs. \n",
        "\n",
        "\n",
        "\n",
        "\n",
        "Use any and all resources available to you.\n",
        "\n",
        "Comment and explain the code.\n",
        "\n",
        "Answer the questions to the best of your abilities.\n",
        "\n",
        "If you have any questions, txt 561-479-8123\n",
        "\n",
        "Save this notebook to your GitHub and submit the link on Canvas\n"
      ],
      "metadata": {
        "id": "vU-T5aoAhMBC"
      }
    },
    {
      "cell_type": "code",
      "execution_count": null,
      "metadata": {
        "id": "MJjTOJXQY7L2"
      },
      "outputs": [],
      "source": [
        "%%capture\n",
        "!pip install wandb\n",
        "!apt-get install poppler-utils\n",
        "!pip install pdf2image\n",
        "!pip install flashtorch\n",
        "import requests\n",
        "from pdf2image import convert_from_path\n",
        "import matplotlib.pyplot as plt\n",
        "import numpy as np\n",
        "import torch\n",
        "import requests\n",
        "from torchvision import *\n",
        "from torchvision.models import *\n",
        "from flashtorch.utils import apply_transforms\n",
        "import wandb as wb"
      ]
    },
    {
      "cell_type": "markdown",
      "source": [
        "**the import requests command tells Python to allow HTTP requests to be made in order to gain information from specific sources**"
      ],
      "metadata": {
        "id": "6CrjgncQOl0w"
      }
    },
    {
      "cell_type": "markdown",
      "source": [
        "**the from pdf2image import convert_from_path command tells Python that whenever a pdf file is included in the code that it must convert/transform the pdf file into an image**"
      ],
      "metadata": {
        "id": "WLlJeFnYTSe8"
      }
    },
    {
      "cell_type": "markdown",
      "source": [
        "**the import matplotlib.pyplot as plt command tells Python whenever it sees \"plt\" in the code that the information that it is given needs to be put into either a graph of some sort, plot lines or dots of data, or place labels on a graph**"
      ],
      "metadata": {
        "id": "pFt9WMElUWd_"
      }
    },
    {
      "cell_type": "markdown",
      "source": [
        "**the import numpy as np command tells Python to import NumPy library into this lab so that whenever Python sees \"np\" it will know that it needs to gather information from NumPy library**"
      ],
      "metadata": {
        "id": "A3ZDIXFAjY1x"
      }
    },
    {
      "cell_type": "markdown",
      "source": [
        "**the import torch command tells Python to bring in a package known as torch, which is a library that Python can import sources that are capable of supporting computations of tensors on Graphical Processing Units (GPU)**"
      ],
      "metadata": {
        "id": "_162GLLblMbc"
      }
    },
    {
      "cell_type": "markdown",
      "source": [
        "**the import requests command tells Python to allow HTTP requests to be made in order to gain information from specific sources**"
      ],
      "metadata": {
        "id": "rnUJl-sOlSCR"
      }
    },
    {
      "cell_type": "markdown",
      "source": [
        "**the from torchvision import command tells Python to import information from the PyTorch library that consists of model architectures, a number of well known datasets, and common image transformations for computer vision**"
      ],
      "metadata": {
        "id": "14eIebM9lQGq"
      }
    },
    {
      "cell_type": "markdown",
      "source": [
        "**the from torchvision.models import command tells Python to bring in information from the subpackage of torchvision, torchvision.models, that will provide Python with any definition needed for creating models dependent upon various tasks, such as image classification, optical flow, video classification, object detection, and a number of other tasks**"
      ],
      "metadata": {
        "id": "Vaur9uOQlMTv"
      }
    },
    {
      "cell_type": "markdown",
      "source": [
        "**the from flashtorch.utils import apply_transforms tells Python to use the specific utilities in PyTorch needed to make the building of models an easier task to complete**"
      ],
      "metadata": {
        "id": "ivj4HIxIlMLy"
      }
    },
    {
      "cell_type": "markdown",
      "source": [
        "**the import wandb as wb tells Python that whenever it sees wb to utilize a mechanism known as wandb in order to keep track and monitor one's training in real-time, especially as one is training the models they are running**"
      ],
      "metadata": {
        "id": "mDQoqfS5lMDT"
      }
    },
    {
      "cell_type": "code",
      "execution_count": null,
      "metadata": {
        "id": "OcM-MSMRmAXL"
      },
      "outputs": [],
      "source": [
        "def GPU(data):\n",
        "    return torch.tensor(data, requires_grad=True, dtype=torch.float, device=torch.device('cuda'))\n",
        "\n",
        "def GPU_data(data):\n",
        "    return torch.tensor(data, requires_grad=False, dtype=torch.float, device=torch.device('cuda'))\n",
        "\n",
        "def plot(x):\n",
        "    fig, ax = plt.subplots()\n",
        "    im = ax.imshow(x, cmap = 'gray')\n",
        "    ax.axis('off')\n",
        "    fig.set_size_inches(5, 5)\n",
        "    plt.show()\n",
        "    \n",
        "def get_google_slide(url):\n",
        "    url_head = \"https://docs.google.com/presentation/d/10qxKxMRr9aa1AtFpCyDBXw-1Aw_B_RiInzzm3cW0KRg/edit#slide=id.g19b8867b70f_0_176\"\n",
        "    url_body = url.split('/')[5]\n",
        "    page_id = url.split('.')[-1]\n",
        "    return url_head + url_body + \"/export/pdf?id=\" + url_body + \"&pageid=\" + page_id\n",
        "\n",
        "def get_slides(url):\n",
        "    url = get_google_slide(url)\n",
        "    r = requests.get(url, allow_redirects=True)\n",
        "    open('file.pdf', 'wb').write(r.content)\n",
        "    images = convert_from_path('file.pdf', 500)\n",
        "    return images\n",
        "\n",
        "def load(image):\n",
        "\n",
        "    return apply_transforms(image).clone().detach().requires_grad_(True).to(device)\n",
        "\n",
        "device = torch.device(\"cuda:0\" if torch.cuda.is_available() else \"cpu\")"
      ]
    },
    {
      "cell_type": "markdown",
      "source": [
        "**this code block provides Python with \"definitions\" of commands that will be used later on in the lab that essentially provides information pertaining to the specific actions that must be taken when Python sees a certain term, such as \"plot(x)\" or \"get_google_slide(url)\"**"
      ],
      "metadata": {
        "id": "HzC_WUX0ZbkU"
      }
    },
    {
      "cell_type": "code",
      "execution_count": null,
      "metadata": {
        "id": "opN3hI0lemBV"
      },
      "outputs": [],
      "source": [
        "labels = {int(key):value for (key, value) in requests.get('https://s3.amazonaws.com/mlpipes/pytorch-quick-start/labels.json').json().items()}\n",
        "\n",
        "model = alexnet(weights='DEFAULT').to(device)\n",
        "model.eval();"
      ]
    },
    {
      "cell_type": "markdown",
      "source": [
        "**this code block defines how the labels for the model created for this lab will be formulated (through providing the link to the website with choices of what words and phrases can be used as labels) and how the model will be created and evaluated** "
      ],
      "metadata": {
        "id": "Q9vcTgCGbC8O"
      }
    },
    {
      "cell_type": "code",
      "source": [
        "url = \"https://docs.google.com/presentation/d/10qxKxMRr9aa1AtFpCyDBXw-1Aw_B_RiInzzm3cW0KRg/edit?usp=sharing\""
      ],
      "metadata": {
        "id": "lQfwEC6F7Tuo"
      },
      "execution_count": null,
      "outputs": []
    },
    {
      "cell_type": "markdown",
      "source": [
        "**this url provides Python with the link to the google slides presentation that contains all of the images that will be needed for this lab**"
      ],
      "metadata": {
        "id": "mqvMhZDDd1fc"
      }
    },
    {
      "cell_type": "code",
      "execution_count": null,
      "metadata": {
        "id": "h7MhH8hrR3AE"
      },
      "outputs": [],
      "source": [
        "images = []\n",
        "\n",
        "for image in get_google_slide(url): \n",
        "    \n",
        "  plot(images)\n",
        "    \n",
        "  images.append(load(image)) \n",
        "    \n",
        "image = torch.vstack(image)"
      ]
    },
    {
      "cell_type": "markdown",
      "source": [
        "**this code block sets up Python to import the images from the url provided in the code above, load the images, and plot them in the exact order that they appear within the google slides presentation**"
      ],
      "metadata": {
        "id": "bxIOnYKPbk5u"
      }
    },
    {
      "cell_type": "code",
      "execution_count": null,
      "metadata": {
        "id": "uKsUVAPdQwmP"
      },
      "outputs": [],
      "source": [
        "images.shape"
      ]
    },
    {
      "cell_type": "code",
      "execution_count": null,
      "metadata": {
        "colab": {
          "background_save": true
        },
        "id": "fJlgt1avR3I9"
      },
      "outputs": [],
      "source": [
        "model(images)"
      ]
    },
    {
      "cell_type": "code",
      "execution_count": null,
      "metadata": {
        "colab": {
          "background_save": true
        },
        "id": "lgGzMREYR3LN"
      },
      "outputs": [],
      "source": [
        "y = model(images)"
      ]
    },
    {
      "cell_type": "markdown",
      "source": [
        "**this code tells Python what y represents**"
      ],
      "metadata": {
        "id": "v-Ofz6GYCFmX"
      }
    },
    {
      "cell_type": "code",
      "execution_count": null,
      "metadata": {
        "colab": {
          "background_save": true
        },
        "id": "L3NVy8_7T_rb"
      },
      "outputs": [],
      "source": [
        "y.shape"
      ]
    },
    {
      "cell_type": "code",
      "execution_count": null,
      "metadata": {
        "colab": {
          "background_save": true
        },
        "id": "UsYfYT6UR3Nn"
      },
      "outputs": [],
      "source": [
        "guesses = torch.argmax(y, 1).cpu().numpy()"
      ]
    },
    {
      "cell_type": "markdown",
      "source": [
        "**this code tells Python that the maximum number of guesses in order to determine the images that will be displayed during each run** "
      ],
      "metadata": {
        "id": "vTL0J7Xx57iD"
      }
    },
    {
      "cell_type": "code",
      "execution_count": null,
      "metadata": {
        "colab": {
          "background_save": true
        },
        "id": "QvSec8rITW7T"
      },
      "outputs": [],
      "source": [
        "for i in list(guesses):\n",
        "    print(labels[i])"
      ]
    },
    {
      "cell_type": "markdown",
      "source": [
        "**this code tells Python that within the range of guesses produced, labels must be printed for each of those guesses**"
      ],
      "metadata": {
        "id": "r5cPAc8Y4jse"
      }
    },
    {
      "cell_type": "code",
      "execution_count": null,
      "metadata": {
        "colab": {
          "background_save": true
        },
        "id": "CALvf79gjAY-"
      },
      "outputs": [],
      "source": [
        "Y = np.zeros(50,)\n",
        "Y[25:] = 1"
      ]
    },
    {
      "cell_type": "code",
      "execution_count": null,
      "metadata": {
        "colab": {
          "background_save": true
        },
        "id": "HSF3ICfP04kM"
      },
      "outputs": [],
      "source": [
        "Y"
      ]
    },
    {
      "cell_type": "code",
      "execution_count": null,
      "metadata": {
        "colab": {
          "background_save": true
        },
        "id": "ZqvMEcxhY6dl"
      },
      "outputs": [],
      "source": [
        "X = y.detach().cpu().numpy() "
      ]
    },
    {
      "cell_type": "markdown",
      "source": [
        "**this code tells Python what x represents**"
      ],
      "metadata": {
        "id": "M6idfOkXCMZo"
      }
    },
    {
      "cell_type": "code",
      "execution_count": null,
      "metadata": {
        "colab": {
          "background_save": true
        },
        "id": "KqPB9TKyEJCS"
      },
      "outputs": [],
      "source": [
        "X.shape"
      ]
    },
    {
      "cell_type": "code",
      "execution_count": null,
      "metadata": {
        "colab": {
          "background_save": true
        },
        "id": "OB9J8q8LEgCG"
      },
      "outputs": [],
      "source": [
        "plt.plot(X[0],'.')"
      ]
    },
    {
      "cell_type": "markdown",
      "source": [
        "**this code tells Python to form a graph starting at x = 0 and, using a red dotted line to represent the slope, plot the line of best fit for the data**"
      ],
      "metadata": {
        "id": "7L3S1b-8Co1j"
      }
    },
    {
      "cell_type": "code",
      "execution_count": null,
      "metadata": {
        "colab": {
          "background_save": true
        },
        "id": "_pfcg2h51IQr"
      },
      "outputs": [],
      "source": [
        "X[0]"
      ]
    },
    {
      "cell_type": "code",
      "execution_count": null,
      "metadata": {
        "colab": {
          "background_save": true
        },
        "id": "BaHI4-u_1O87"
      },
      "outputs": [],
      "source": [
        "np.argmax(X[0])"
      ]
    },
    {
      "cell_type": "code",
      "execution_count": null,
      "metadata": {
        "colab": {
          "background_save": true
        },
        "id": "lEJfAcaM2mdG"
      },
      "outputs": [],
      "source": [
        "labels[948]"
      ]
    },
    {
      "cell_type": "code",
      "execution_count": null,
      "metadata": {
        "colab": {
          "background_save": true
        },
        "id": "r3wq2fNM13K9"
      },
      "outputs": [],
      "source": [
        "top_ten = np.argsort(X[0])[::-1][0:10]"
      ]
    },
    {
      "cell_type": "markdown",
      "source": [
        "**this code tells Python to sort the top ten images into an arrangement**"
      ],
      "metadata": {
        "id": "Tb9R-O8zDzlY"
      }
    },
    {
      "cell_type": "code",
      "execution_count": null,
      "metadata": {
        "colab": {
          "background_save": true
        },
        "id": "d3awGR9i18os"
      },
      "outputs": [],
      "source": [
        "for i in top_ten:\n",
        "    print(labels[i])"
      ]
    },
    {
      "cell_type": "markdown",
      "source": [
        "**this code tells Python that for the top ten images, Python must print labels for each one**"
      ],
      "metadata": {
        "id": "BoWgHvgo3evm"
      }
    },
    {
      "cell_type": "code",
      "execution_count": null,
      "metadata": {
        "colab": {
          "background_save": true
        },
        "id": "SXOMKyB_1Zfa"
      },
      "outputs": [],
      "source": [
        "labels"
      ]
    },
    {
      "cell_type": "code",
      "execution_count": null,
      "metadata": {
        "colab": {
          "background_save": true
        },
        "id": "cetMFwBQngCQ"
      },
      "outputs": [],
      "source": [
        "plt.hist(X[0])"
      ]
    },
    {
      "cell_type": "code",
      "execution_count": null,
      "metadata": {
        "colab": {
          "background_save": true
        },
        "id": "zBt4rsdIefV_"
      },
      "outputs": [],
      "source": [
        "X = GPU_data(X)\n",
        "Y = GPU_data(Y)"
      ]
    },
    {
      "cell_type": "code",
      "execution_count": null,
      "metadata": {
        "colab": {
          "background_save": true
        },
        "id": "m4BlYG-CgC2z"
      },
      "outputs": [],
      "source": [
        "def softmax(x):\n",
        "    s1 = torch.exp(x - torch.max(x,1)[0][:,None])\n",
        "    s = s1 / s1.sum(1)[:,None]\n",
        "    return s"
      ]
    },
    {
      "cell_type": "markdown",
      "source": [
        "**this code provides Python with the definition of softmax(x), which is essentially an instruction for Python to follow where Python will compute softmax values for each sets of scores that are in x; Python will then have the task of taking the difference of each column and the max and then divide them by the sum**"
      ],
      "metadata": {
        "id": "IDaH9_bguIWs"
      }
    },
    {
      "cell_type": "code",
      "execution_count": null,
      "metadata": {
        "colab": {
          "background_save": true
        },
        "id": "XZ-UV8W_c_9o"
      },
      "outputs": [],
      "source": [
        "def cross_entropy(outputs, labels):            \n",
        "    return -torch.sum(softmax(outputs).log()[range(outputs.size()[0]), labels.long()])/outputs.size()[0]  "
      ]
    },
    {
      "cell_type": "markdown",
      "source": [
        "**this code provides Python with the basis of which it will complete the command of cross_entropy(outputs, labels), which is Python will take the probabilities of the outputs and examine the difference between the outputs and their actual/best outputs**"
      ],
      "metadata": {
        "id": "Mnx5TGa1uI5H"
      }
    },
    {
      "cell_type": "code",
      "execution_count": null,
      "metadata": {
        "colab": {
          "background_save": true
        },
        "id": "wtL1kZcZICVP"
      },
      "outputs": [],
      "source": [
        "def randn_trunc(s): #Truncated Normal Random Numbers\n",
        "    mu = 0 \n",
        "    sigma = 0.1\n",
        "    R = stats.truncnorm((-2*sigma - mu) / sigma, (2*sigma - mu) / sigma, loc=mu, scale=sigma)\n",
        "    return R.rvs(s)"
      ]
    },
    {
      "cell_type": "markdown",
      "source": [
        "**this code tells Python that whenever it sees randn_trunc(s), that this is a distributed random variable and that it must randomly run the numbers in order to produce a probability distribution graph** \n",
        "\n"
      ],
      "metadata": {
        "id": "sg15WoLxuKSY"
      }
    },
    {
      "cell_type": "code",
      "execution_count": null,
      "metadata": {
        "colab": {
          "background_save": true
        },
        "id": "wPQjN4JwYHAz"
      },
      "outputs": [],
      "source": [
        "def Truncated_Normal(size):\n",
        "\n",
        "    u1 = torch.rand(size)*(1-np.exp(-2)) + np.exp(-2)\n",
        "    u2 = torch.rand(size)\n",
        "    z  = torch.sqrt(-2*torch.log(u1)) * torch.cos(2*np.pi*u2)\n",
        "\n",
        "    return z"
      ]
    },
    {
      "cell_type": "markdown",
      "source": [
        "**this code tells Python that whenever it sees Truncated_Normal(size), that this is a normally distributed random variable and that it must randomly run the numbers in order to produce a normal distribution graph** "
      ],
      "metadata": {
        "id": "CeVrN0zFuK09"
      }
    },
    {
      "cell_type": "code",
      "execution_count": null,
      "metadata": {
        "colab": {
          "background_save": true
        },
        "id": "LW3ttVcq1sI9"
      },
      "outputs": [],
      "source": [
        "def acc(out,y):\n",
        "    with torch.no_grad():\n",
        "        return (torch.sum(torch.max(out,1)[1] == y).item())/y.shape[0]"
      ]
    },
    {
      "cell_type": "markdown",
      "source": [
        "**I am unsure of how to describe this code**"
      ],
      "metadata": {
        "id": "Ph-GpKpruL_5"
      }
    },
    {
      "cell_type": "code",
      "execution_count": null,
      "metadata": {
        "colab": {
          "background_save": true
        },
        "id": "5UXgio04fyvz"
      },
      "outputs": [],
      "source": [
        "X.shape"
      ]
    },
    {
      "cell_type": "code",
      "execution_count": null,
      "metadata": {
        "colab": {
          "background_save": true
        },
        "id": "x79Sie8XKPOC"
      },
      "outputs": [],
      "source": [
        "def get_batch(mode):\n",
        "    b = c.b\n",
        "    if mode == \"train\":\n",
        "        r = np.random.randint(X.shape[0]-b) \n",
        "        x = X[r:r+b,:]\n",
        "        y = Y[r:r+b]\n",
        "    elif mode == \"test\":\n",
        "        r = np.random.randint(X_test.shape[0]-b)\n",
        "        x = X_test[r:r+b,:]\n",
        "        y = Y_test[r:r+b]\n",
        "    return x,y"
      ]
    },
    {
      "cell_type": "markdown",
      "source": [
        "**this code tells Python that depending upon what mode the images are in, whether it be train or test, those images will be categorized as a batch and be evaluated under np.random.randint**\n",
        "\n"
      ],
      "metadata": {
        "id": "k9UVU-ecuNMl"
      }
    },
    {
      "cell_type": "code",
      "execution_count": null,
      "metadata": {
        "colab": {
          "background_save": true
        },
        "id": "vXOr9aM8A8P-"
      },
      "outputs": [],
      "source": [
        "def model(x,w):\n",
        "\n",
        "    return x@w[0]"
      ]
    },
    {
      "cell_type": "markdown",
      "source": [
        "**this code tells Python that whenever it sees model(x,w) in a later code within this lab, it must display that model**"
      ],
      "metadata": {
        "id": "XGl4OOQTxJNh"
      }
    },
    {
      "cell_type": "code",
      "execution_count": null,
      "metadata": {
        "colab": {
          "background_save": true
        },
        "id": "uzRsuDek9Fve"
      },
      "outputs": [],
      "source": [
        "def make_plots():\n",
        "    \n",
        "    acc_train = acc(model(x,w),y)\n",
        "    \n",
        "    # xt,yt = get_batch('test')\n",
        "\n",
        "    # acc_test = acc(model(xt,w),yt)\n",
        "\n",
        "    wb.log({\"acc_train\": acc_train})"
      ]
    },
    {
      "cell_type": "markdown",
      "source": [
        "**I am unsure of how to comment on this code**"
      ],
      "metadata": {
        "id": "PbiLC-f7xKw7"
      }
    },
    {
      "cell_type": "code",
      "execution_count": null,
      "metadata": {
        "colab": {
          "background_save": true
        },
        "id": "WANJibeUNghZ"
      },
      "outputs": [],
      "source": [
        "wb.init(project=\"Linear_Model_Photo_1\");\n",
        "c = wb.config\n",
        "\n",
        "c.h = 0.001\n",
        "c.b = 32\n",
        "c.epochs = 100000\n",
        "\n",
        "w = [GPU(Truncated_Normal((1000,2)))]\n",
        "\n",
        "optimizer = torch.optim.Adam(w, lr=c.h)  \n",
        "\n",
        "for i in range(c.epochs):\n",
        "\n",
        "    x,y = get_batch('train')\n",
        "\n",
        "    loss = cross_entropy(softmax(model(x,w)),y)\n",
        "\n",
        "    optimizer.zero_grad()\n",
        "    loss.backward()\n",
        "    optimizer.step()\n",
        "   \n",
        "    wb.log({\"loss\": loss})\n",
        "\n",
        "    make_plots()\n"
      ]
    },
    {
      "cell_type": "markdown",
      "source": [
        "**I am a little confused on this code and unsure of how to describe it**"
      ],
      "metadata": {
        "id": "rcGJC0y3xPjP"
      }
    },
    {
      "cell_type": "markdown",
      "metadata": {
        "id": "sI--oRHS7Olk"
      },
      "source": [
        "https://tensorspace.org/"
      ]
    }
  ],
  "metadata": {
    "accelerator": "GPU",
    "colab": {
      "provenance": [],
      "include_colab_link": true
    },
    "gpuClass": "standard",
    "kernelspec": {
      "display_name": "Python 3",
      "name": "python3"
    },
    "language_info": {
      "name": "python"
    }
  },
  "nbformat": 4,
  "nbformat_minor": 0
}